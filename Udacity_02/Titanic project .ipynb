{
 "cells": [
  {
   "cell_type": "code",
   "execution_count": 1,
   "metadata": {},
   "outputs": [
    {
     "name": "stdout",
     "output_type": "stream",
     "text": [
      "   row.names pclass  survived  \\\n",
      "0          1    1st         1   \n",
      "1          2    1st         0   \n",
      "2          3    1st         0   \n",
      "3          4    1st         0   \n",
      "4          5    1st         1   \n",
      "\n",
      "                                              name      age     embarked  \\\n",
      "0                     Allen, Miss Elisabeth Walton  29.0000  Southampton   \n",
      "1                      Allison, Miss Helen Loraine   2.0000  Southampton   \n",
      "2              Allison, Mr Hudson Joshua Creighton  30.0000  Southampton   \n",
      "3  Allison, Mrs Hudson J.C. (Bessie Waldo Daniels)  25.0000  Southampton   \n",
      "4                    Allison, Master Hudson Trevor   0.9167  Southampton   \n",
      "\n",
      "                         home.dest room      ticket  boat     sex  \n",
      "0                     St Louis, MO  B-5  24160 L221     2  female  \n",
      "1  Montreal, PQ / Chesterville, ON  C26         NaN   NaN  female  \n",
      "2  Montreal, PQ / Chesterville, ON  C26         NaN  -135    male  \n",
      "3  Montreal, PQ / Chesterville, ON  C26         NaN   NaN  female  \n",
      "4  Montreal, PQ / Chesterville, ON  C22         NaN    11    male  \n"
     ]
    }
   ],
   "source": [
    "import pandas as pd  \n",
    "import seaborn as sns \n",
    "import numpy as np\n",
    "import matplotlib.pyplot as plt \n",
    "import re \n",
    "titanic = pd.read_csv(\"titanic.csv\")\n",
    "print(titanic.head())\n",
    "%matplotlib inline "
   ]
  },
  {
   "cell_type": "code",
   "execution_count": 2,
   "metadata": {},
   "outputs": [
    {
     "data": {
      "text/html": [
       "<div>\n",
       "<table border=\"1\" class=\"dataframe\">\n",
       "  <thead>\n",
       "    <tr style=\"text-align: right;\">\n",
       "      <th></th>\n",
       "      <th>row.names</th>\n",
       "      <th>pclass</th>\n",
       "      <th>survived</th>\n",
       "      <th>name</th>\n",
       "      <th>age</th>\n",
       "      <th>embarked</th>\n",
       "      <th>home.dest</th>\n",
       "      <th>room</th>\n",
       "      <th>ticket</th>\n",
       "      <th>boat</th>\n",
       "      <th>sex</th>\n",
       "    </tr>\n",
       "  </thead>\n",
       "  <tbody>\n",
       "    <tr>\n",
       "      <th>0</th>\n",
       "      <td>1</td>\n",
       "      <td>1st</td>\n",
       "      <td>1</td>\n",
       "      <td>Allen, Miss Elisabeth Walton</td>\n",
       "      <td>29.0</td>\n",
       "      <td>Southampton</td>\n",
       "      <td>St Louis, MO</td>\n",
       "      <td>B-5</td>\n",
       "      <td>24160 L221</td>\n",
       "      <td>2</td>\n",
       "      <td>female</td>\n",
       "    </tr>\n",
       "    <tr>\n",
       "      <th>1</th>\n",
       "      <td>2</td>\n",
       "      <td>1st</td>\n",
       "      <td>0</td>\n",
       "      <td>Allison, Miss Helen Loraine</td>\n",
       "      <td>2.0</td>\n",
       "      <td>Southampton</td>\n",
       "      <td>Montreal, PQ / Chesterville, ON</td>\n",
       "      <td>C26</td>\n",
       "      <td>NaN</td>\n",
       "      <td>NaN</td>\n",
       "      <td>female</td>\n",
       "    </tr>\n",
       "    <tr>\n",
       "      <th>2</th>\n",
       "      <td>3</td>\n",
       "      <td>1st</td>\n",
       "      <td>0</td>\n",
       "      <td>Allison, Mr Hudson Joshua Creighton</td>\n",
       "      <td>30.0</td>\n",
       "      <td>Southampton</td>\n",
       "      <td>Montreal, PQ / Chesterville, ON</td>\n",
       "      <td>C26</td>\n",
       "      <td>NaN</td>\n",
       "      <td>-135</td>\n",
       "      <td>male</td>\n",
       "    </tr>\n",
       "  </tbody>\n",
       "</table>\n",
       "</div>"
      ],
      "text/plain": [
       "   row.names pclass  survived                                 name   age  \\\n",
       "0          1    1st         1         Allen, Miss Elisabeth Walton  29.0   \n",
       "1          2    1st         0          Allison, Miss Helen Loraine   2.0   \n",
       "2          3    1st         0  Allison, Mr Hudson Joshua Creighton  30.0   \n",
       "\n",
       "      embarked                        home.dest room      ticket  boat     sex  \n",
       "0  Southampton                     St Louis, MO  B-5  24160 L221     2  female  \n",
       "1  Southampton  Montreal, PQ / Chesterville, ON  C26         NaN   NaN  female  \n",
       "2  Southampton  Montreal, PQ / Chesterville, ON  C26         NaN  -135    male  "
      ]
     },
     "execution_count": 2,
     "metadata": {},
     "output_type": "execute_result"
    }
   ],
   "source": [
    "titanic.iloc[0:3,:]  "
   ]
  },
  {
   "cell_type": "code",
   "execution_count": 3,
   "metadata": {
    "scrolled": false
   },
   "outputs": [
    {
     "data": {
      "text/plain": [
       "['row.names',\n",
       " 'pclass',\n",
       " 'survived',\n",
       " 'name',\n",
       " 'age',\n",
       " 'embarked',\n",
       " 'home.dest',\n",
       " 'room',\n",
       " 'ticket',\n",
       " 'boat',\n",
       " 'sex']"
      ]
     },
     "execution_count": 3,
     "metadata": {},
     "output_type": "execute_result"
    }
   ],
   "source": [
    "list(titanic.columns.values)   "
   ]
  },
  {
   "cell_type": "code",
   "execution_count": 4,
   "metadata": {},
   "outputs": [
    {
     "name": "stderr",
     "output_type": "stream",
     "text": [
      "/Users/aratatomiyoshi/anaconda/lib/python2.7/site-packages/numpy/lib/function_base.py:3834: RuntimeWarning: Invalid value encountered in percentile\n",
      "  RuntimeWarning)\n"
     ]
    },
    {
     "data": {
      "text/html": [
       "<div>\n",
       "<table border=\"1\" class=\"dataframe\">\n",
       "  <thead>\n",
       "    <tr style=\"text-align: right;\">\n",
       "      <th></th>\n",
       "      <th>row.names</th>\n",
       "      <th>survived</th>\n",
       "      <th>age</th>\n",
       "    </tr>\n",
       "  </thead>\n",
       "  <tbody>\n",
       "    <tr>\n",
       "      <th>count</th>\n",
       "      <td>1313.000000</td>\n",
       "      <td>1313.000000</td>\n",
       "      <td>633.000000</td>\n",
       "    </tr>\n",
       "    <tr>\n",
       "      <th>mean</th>\n",
       "      <td>657.000000</td>\n",
       "      <td>0.341965</td>\n",
       "      <td>31.194181</td>\n",
       "    </tr>\n",
       "    <tr>\n",
       "      <th>std</th>\n",
       "      <td>379.174762</td>\n",
       "      <td>0.474549</td>\n",
       "      <td>14.747525</td>\n",
       "    </tr>\n",
       "    <tr>\n",
       "      <th>min</th>\n",
       "      <td>1.000000</td>\n",
       "      <td>0.000000</td>\n",
       "      <td>0.166700</td>\n",
       "    </tr>\n",
       "    <tr>\n",
       "      <th>25%</th>\n",
       "      <td>329.000000</td>\n",
       "      <td>0.000000</td>\n",
       "      <td>NaN</td>\n",
       "    </tr>\n",
       "    <tr>\n",
       "      <th>50%</th>\n",
       "      <td>657.000000</td>\n",
       "      <td>0.000000</td>\n",
       "      <td>NaN</td>\n",
       "    </tr>\n",
       "    <tr>\n",
       "      <th>75%</th>\n",
       "      <td>985.000000</td>\n",
       "      <td>1.000000</td>\n",
       "      <td>NaN</td>\n",
       "    </tr>\n",
       "    <tr>\n",
       "      <th>max</th>\n",
       "      <td>1313.000000</td>\n",
       "      <td>1.000000</td>\n",
       "      <td>71.000000</td>\n",
       "    </tr>\n",
       "  </tbody>\n",
       "</table>\n",
       "</div>"
      ],
      "text/plain": [
       "         row.names     survived         age\n",
       "count  1313.000000  1313.000000  633.000000\n",
       "mean    657.000000     0.341965   31.194181\n",
       "std     379.174762     0.474549   14.747525\n",
       "min       1.000000     0.000000    0.166700\n",
       "25%     329.000000     0.000000         NaN\n",
       "50%     657.000000     0.000000         NaN\n",
       "75%     985.000000     1.000000         NaN\n",
       "max    1313.000000     1.000000   71.000000"
      ]
     },
     "execution_count": 4,
     "metadata": {},
     "output_type": "execute_result"
    }
   ],
   "source": [
    "titanic.describe() "
   ]
  },
  {
   "cell_type": "code",
   "execution_count": 5,
   "metadata": {},
   "outputs": [
    {
     "data": {
      "text/plain": [
       "row.names    958.000000\n",
       "survived       0.192686\n",
       "age           24.519658\n",
       "dtype: float64"
      ]
     },
     "execution_count": 5,
     "metadata": {},
     "output_type": "execute_result"
    }
   ],
   "source": [
    "titanic[titanic[\"pclass\"] == \"3rd\"].mean() "
   ]
  },
  {
   "cell_type": "code",
   "execution_count": 6,
   "metadata": {},
   "outputs": [
    {
     "name": "stdout",
     "output_type": "stream",
     "text": [
      "   row.names pclass  survived  \\\n",
      "0          1    1st         1   \n",
      "1          2    1st         0   \n",
      "2          3    1st         0   \n",
      "3          4    1st         0   \n",
      "4          5    1st         1   \n",
      "5          6    1st         1   \n",
      "6          7    1st         1   \n",
      "7          8    1st         0   \n",
      "8          9    1st         1   \n",
      "9         10    1st         0   \n",
      "\n",
      "                                              name      age     embarked  \\\n",
      "0                     Allen, Miss Elisabeth Walton  29.0000  Southampton   \n",
      "1                      Allison, Miss Helen Loraine   2.0000  Southampton   \n",
      "2              Allison, Mr Hudson Joshua Creighton  30.0000  Southampton   \n",
      "3  Allison, Mrs Hudson J.C. (Bessie Waldo Daniels)  25.0000  Southampton   \n",
      "4                    Allison, Master Hudson Trevor   0.9167  Southampton   \n",
      "5                               Anderson, Mr Harry  47.0000  Southampton   \n",
      "6                 Andrews, Miss Kornelia Theodosia  63.0000  Southampton   \n",
      "7                           Andrews, Mr Thomas, jr  39.0000  Southampton   \n",
      "8     Appleton, Mrs Edward Dale (Charlotte Lamson)  58.0000  Southampton   \n",
      "9                           Artagaveytia, Mr Ramon  71.0000    Cherbourg   \n",
      "\n",
      "                         home.dest   room      ticket  boat     sex  \n",
      "0                     St Louis, MO    B-5  24160 L221     2  female  \n",
      "1  Montreal, PQ / Chesterville, ON    C26         NaN   NaN  female  \n",
      "2  Montreal, PQ / Chesterville, ON    C26         NaN  -135    male  \n",
      "3  Montreal, PQ / Chesterville, ON    C26         NaN   NaN  female  \n",
      "4  Montreal, PQ / Chesterville, ON    C22         NaN    11    male  \n",
      "5                     New York, NY   E-12         NaN     3    male  \n",
      "6                       Hudson, NY    D-7   13502 L77    10  female  \n",
      "7                      Belfast, NI   A-36         NaN   NaN    male  \n",
      "8              Bayside, Queens, NY  C-101         NaN     2  female  \n",
      "9              Montevideo, Uruguay    NaN         NaN   -22    male  \n"
     ]
    }
   ],
   "source": [
    "titanic.shape  \n",
    "print(titanic.head(10))"
   ]
  },
  {
   "cell_type": "markdown",
   "metadata": {},
   "source": [
    "<head>Pclass<head>"
   ]
  },
  {
   "cell_type": "code",
   "execution_count": 7,
   "metadata": {},
   "outputs": [
    {
     "name": "stdout",
     "output_type": "stream",
     "text": [
      "pclass\n",
      "1st    0.599379\n",
      "2nd    0.425000\n",
      "3rd    0.192686\n",
      "Name: survived, dtype: float64\n"
     ]
    }
   ],
   "source": [
    "survival_pclass_mean = titanic.pivot_table('survived', index=\"pclass\",  aggfunc='mean') \n",
    "print(survival_pclass_mean)"
   ]
  },
  {
   "cell_type": "code",
   "execution_count": 8,
   "metadata": {},
   "outputs": [
    {
     "data": {
      "text/plain": [
       "pclass\n",
       "1st    39.667773\n",
       "2nd    28.300314\n",
       "3rd    24.519658\n",
       "Name: age, dtype: float64"
      ]
     },
     "execution_count": 8,
     "metadata": {},
     "output_type": "execute_result"
    }
   ],
   "source": [
    "titanic.pivot_table('age', index='pclass', aggfunc='mean') \n"
   ]
  },
  {
   "cell_type": "code",
   "execution_count": 9,
   "metadata": {},
   "outputs": [
    {
     "data": {
      "text/plain": [
       "0    0.658035\n",
       "1    0.341965\n",
       "Name: survived, dtype: float64"
      ]
     },
     "execution_count": 9,
     "metadata": {},
     "output_type": "execute_result"
    }
   ],
   "source": [
    "titanic[\"survived\"].value_counts(normalize=True) \n",
    "#Survival rate was 34% "
   ]
  },
  {
   "cell_type": "code",
   "execution_count": 10,
   "metadata": {},
   "outputs": [
    {
     "name": "stderr",
     "output_type": "stream",
     "text": [
      "/Users/aratatomiyoshi/anaconda/lib/python2.7/site-packages/matplotlib/axes/_axes.py:531: UserWarning: No labelled objects found. Use label='...' kwarg on individual plots.\n",
      "  warnings.warn(\"No labelled objects found. \"\n"
     ]
    },
    {
     "data": {
      "image/png": "[encoded data removed]",
      "text/plain": [
       "<matplotlib.figure.Figure at 0x10a3f4110>"
      ]
     },
     "metadata": {},
     "output_type": "display_data"
    }
   ],
   "source": [
    "titanic[\"survived\"].value_counts(normalize=True) \n",
    "sns.countplot(titanic[\"survived\"]).legend()"
   ]
  },
  {
   "cell_type": "code",
   "execution_count": 11,
   "metadata": {},
   "outputs": [
    {
     "data": {
      "text/plain": [
       "1st    0.429844\n",
       "3rd    0.305122\n",
       "2nd    0.265033\n",
       "Name: pclass, dtype: float64"
      ]
     },
     "execution_count": 11,
     "metadata": {},
     "output_type": "execute_result"
    }
   ],
   "source": [
    "titanic['pclass'][titanic['survived'] == 1].value_counts(normalize=True) "
   ]
  },
  {
   "cell_type": "code",
   "execution_count": 12,
   "metadata": {},
   "outputs": [
    {
     "data": {
      "text/plain": [
       "3rd    0.664352\n",
       "2nd    0.186343\n",
       "1st    0.149306\n",
       "Name: pclass, dtype: float64"
      ]
     },
     "execution_count": 12,
     "metadata": {},
     "output_type": "execute_result"
    }
   ],
   "source": [
    "titanic['pclass'][titanic['survived'] == 0].value_counts(normalize=True) "
   ]
  },
  {
   "cell_type": "code",
   "execution_count": 13,
   "metadata": {
    "scrolled": true
   },
   "outputs": [
    {
     "data": {
      "text/plain": [
       "<matplotlib.axes._subplots.AxesSubplot at 0x114d67b10>"
      ]
     },
     "execution_count": 13,
     "metadata": {},
     "output_type": "execute_result"
    },
    {
     "data": {
      "image/png": "[encoded data removed]",
      "text/plain": [
       "<matplotlib.figure.Figure at 0x114c9e510>"
      ]
     },
     "metadata": {},
     "output_type": "display_data"
    }
   ],
   "source": [
    "sns.countplot(titanic['pclass'], hue=titanic['survived'])\n",
    "#It seems pretty obvious that passengers on cabin 3 more likely to die than alive. \n",
    "#Passengers on cabin 1 were more likely to survived. "
   ]
  },
  {
   "cell_type": "code",
   "execution_count": 14,
   "metadata": {},
   "outputs": [
    {
     "data": {
      "text/plain": [
       "male      0.647372\n",
       "female    0.352628\n",
       "Name: sex, dtype: float64"
      ]
     },
     "execution_count": 14,
     "metadata": {},
     "output_type": "execute_result"
    }
   ],
   "source": [
    "titanic['sex'].value_counts(normalize=True) \n",
    "#65% of passengers were male "
   ]
  },
  {
   "cell_type": "code",
   "execution_count": 15,
   "metadata": {},
   "outputs": [
    {
     "data": {
      "text/plain": [
       "sex\n",
       "female    0.663067\n",
       "male      0.167059\n",
       "Name: survived, dtype: float64"
      ]
     },
     "execution_count": 15,
     "metadata": {},
     "output_type": "execute_result"
    }
   ],
   "source": [
    "titanic['survived'].groupby(titanic['sex']).mean()\n",
    "#Female were more likely to be survived "
   ]
  },
  {
   "cell_type": "code",
   "execution_count": 16,
   "metadata": {},
   "outputs": [
    {
     "data": {
      "text/plain": [
       "0       1\n",
       "1       0\n",
       "2       0\n",
       "3       0\n",
       "4       1\n",
       "5       1\n",
       "6       1\n",
       "7       0\n",
       "8       1\n",
       "9       0\n",
       "10      0\n",
       "11      1\n",
       "12      1\n",
       "13      1\n",
       "14      0\n",
       "15      1\n",
       "16      0\n",
       "17      0\n",
       "18      1\n",
       "19      1\n",
       "20      1\n",
       "21      0\n",
       "22      1\n",
       "23      1\n",
       "24      1\n",
       "25      0\n",
       "26      1\n",
       "27      1\n",
       "28      1\n",
       "29      0\n",
       "       ..\n",
       "1283    0\n",
       "1284    0\n",
       "1285    0\n",
       "1286    0\n",
       "1287    0\n",
       "1288    0\n",
       "1289    1\n",
       "1290    0\n",
       "1291    0\n",
       "1292    0\n",
       "1293    1\n",
       "1294    0\n",
       "1295    0\n",
       "1296    0\n",
       "1297    0\n",
       "1298    0\n",
       "1299    0\n",
       "1300    0\n",
       "1301    0\n",
       "1302    1\n",
       "1303    0\n",
       "1304    1\n",
       "1305    0\n",
       "1306    0\n",
       "1307    0\n",
       "1308    0\n",
       "1309    0\n",
       "1310    0\n",
       "1311    0\n",
       "1312    0\n",
       "Name: survived, dtype: int64"
      ]
     },
     "execution_count": 16,
     "metadata": {},
     "output_type": "execute_result"
    }
   ],
   "source": [
    "pd.isnull(titanic['survived']).value_counts()  \n",
    "titanic['survived']"
   ]
  },
  {
   "cell_type": "code",
   "execution_count": 17,
   "metadata": {},
   "outputs": [
    {
     "data": {
      "text/plain": [
       "row.names    128\n",
       "pclass       128\n",
       "survived     128\n",
       "name         128\n",
       "age          128\n",
       "embarked     128\n",
       "home.dest    124\n",
       "room           7\n",
       "ticket        15\n",
       "boat          56\n",
       "sex          128\n",
       "dtype: int64"
      ]
     },
     "execution_count": 17,
     "metadata": {},
     "output_type": "execute_result"
    }
   ],
   "source": [
    "titanic[titanic['age'] < 20].count()"
   ]
  },
  {
   "cell_type": "markdown",
   "metadata": {},
   "source": [
    "<head>Age<head>"
   ]
  },
  {
   "cell_type": "code",
   "execution_count": 18,
   "metadata": {},
   "outputs": [
    {
     "data": {
      "text/plain": [
       "age\n",
       "[0.167, 19]    0.578125\n",
       "(19, 26]       0.354610\n",
       "(26, 33]       0.400000\n",
       "(33, 45]       0.447761\n",
       "(45, 71]       0.443478\n",
       "Name: survived, dtype: float64"
      ]
     },
     "execution_count": 18,
     "metadata": {},
     "output_type": "execute_result"
    }
   ],
   "source": [
    "titanic['survived'].groupby(pd.qcut(titanic['age'],5)).mean() \n",
    "#pd.qcut will devide a list of values equally  \n",
    "#Age less than 19 were more likely to be survived  \n"
   ]
  },
  {
   "cell_type": "code",
   "execution_count": 19,
   "metadata": {},
   "outputs": [
    {
     "data": {
      "text/plain": [
       "(19, 26]       141\n",
       "(33, 45]       134\n",
       "[0.167, 19]    128\n",
       "(45, 71]       115\n",
       "(26, 33]       115\n",
       "Name: age, dtype: int64"
      ]
     },
     "execution_count": 19,
     "metadata": {},
     "output_type": "execute_result"
    }
   ],
   "source": [
    "pd.qcut(titanic['age'],5).value_counts() \n",
    "#Age19-26 had a highest number of passenger  "
   ]
  },
  {
   "cell_type": "markdown",
   "metadata": {},
   "source": [
    "<head>Embarked<head>"
   ]
  },
  {
   "cell_type": "code",
   "execution_count": 20,
   "metadata": {},
   "outputs": [
    {
     "data": {
      "text/plain": [
       "Southampton    0.697929\n",
       "Cherbourg      0.247259\n",
       "Queenstown     0.054811\n",
       "Name: embarked, dtype: float64"
      ]
     },
     "execution_count": 20,
     "metadata": {},
     "output_type": "execute_result"
    }
   ],
   "source": [
    "titanic['embarked'].value_counts(normalize=True) "
   ]
  },
  {
   "cell_type": "code",
   "execution_count": 21,
   "metadata": {},
   "outputs": [
    {
     "data": {
      "text/plain": [
       "embarked\n",
       "Cherbourg      0.586207\n",
       "Queenstown     0.311111\n",
       "Southampton    0.399651\n",
       "Name: survived, dtype: float64"
      ]
     },
     "execution_count": 21,
     "metadata": {},
     "output_type": "execute_result"
    }
   ],
   "source": [
    "titanic['survived'].groupby(titanic['embarked']).mean()"
   ]
  },
  {
   "cell_type": "code",
   "execution_count": 22,
   "metadata": {},
   "outputs": [
    {
     "data": {
      "text/plain": [
       "<matplotlib.axes._subplots.AxesSubplot at 0x1173c1110>"
      ]
     },
     "execution_count": 22,
     "metadata": {},
     "output_type": "execute_result"
    },
    {
     "data": {
      "image/png": "[encoded data removed]",
      "text/plain": [
       "<matplotlib.figure.Figure at 0x114ca5390>"
      ]
     },
     "metadata": {},
     "output_type": "display_data"
    }
   ],
   "source": [
    "sns.countplot(titanic['embarked'], hue=titanic['pclass'])\n",
    "#Majority of passengers from Cherbourg were 1st class passengers \n",
    "#Southampton had 2nd class passengers the most in the group  \n",
    "#Majority of passengers onborded from Queenstown were 3rd class passengers "
   ]
  },
  {
   "cell_type": "code",
   "execution_count": 23,
   "metadata": {
    "scrolled": true
   },
   "outputs": [
    {
     "data": {
      "text/plain": [
       "1    119\n",
       "0     84\n",
       "Name: survived, dtype: int64"
      ]
     },
     "execution_count": 23,
     "metadata": {},
     "output_type": "execute_result"
    }
   ],
   "source": [
    "titanic[titanic['embarked'] == 'Cherbourg']['survived'].value_counts()"
   ]
  },
  {
   "cell_type": "code",
   "execution_count": 24,
   "metadata": {},
   "outputs": [
    {
     "data": {
      "text/plain": [
       "0    0.600349\n",
       "1    0.399651\n",
       "Name: survived, dtype: float64"
      ]
     },
     "execution_count": 24,
     "metadata": {},
     "output_type": "execute_result"
    }
   ],
   "source": [
    "titanic[titanic['embarked'] == 'Southampton']['survived'].value_counts(normalize=True)"
   ]
  },
  {
   "cell_type": "code",
   "execution_count": 25,
   "metadata": {},
   "outputs": [
    {
     "data": {
      "text/plain": [
       "<matplotlib.axes._subplots.AxesSubplot at 0x1176acc10>"
      ]
     },
     "execution_count": 25,
     "metadata": {},
     "output_type": "execute_result"
    },
    {
     "data": {
      "image/png": "[encoded data removed]",
      "text/plain": [
       "<matplotlib.figure.Figure at 0x114ca5410>"
      ]
     },
     "metadata": {},
     "output_type": "display_data"
    }
   ],
   "source": [
    "sns.countplot(titanic['embarked'], hue=titanic['survived']) "
   ]
  },
  {
   "cell_type": "markdown",
   "metadata": {},
   "source": [
    "The reason passengers from Cherbourg had higher survival rate was that majority of the passenger were 1st class passenger( among all survival passengers based on pclass, 43% of the passengers were 1st class passengers). Therefore, we can conclude that there is a regional inequality affecting a survival rate.  "
   ]
  },
  {
   "cell_type": "code",
   "execution_count": 26,
   "metadata": {},
   "outputs": [
    {
     "name": "stderr",
     "output_type": "stream",
     "text": [
      "/Users/aratatomiyoshi/anaconda/lib/python2.7/site-packages/ipykernel/__main__.py:1: UserWarning: Boolean Series key will be reindexed to match DataFrame index.\n",
      "  if __name__ == '__main__':\n"
     ]
    },
    {
     "data": {
      "text/plain": [
       "row.names    274.010204\n",
       "survived       0.887755\n",
       "age           34.109375\n",
       "dtype: float64"
      ]
     },
     "execution_count": 26,
     "metadata": {},
     "output_type": "execute_result"
    }
   ],
   "source": [
    "titanic[titanic['embarked'] == 'Cherbourg'][titanic['sex'] == 'female'].mean() \n"
   ]
  },
  {
   "cell_type": "code",
   "execution_count": 27,
   "metadata": {},
   "outputs": [
    {
     "data": {
      "text/plain": [
       "<seaborn.axisgrid.FacetGrid at 0x117a55850>"
      ]
     },
     "execution_count": 27,
     "metadata": {},
     "output_type": "execute_result"
    },
    {
     "data": {
      "image/png": "[encoded data removed]",
      "text/plain": [
       "<matplotlib.figure.Figure at 0x117a55450>"
      ]
     },
     "metadata": {},
     "output_type": "display_data"
    }
   ],
   "source": [
    "g = sns.FacetGrid(titanic, col=\"survived\") \n",
    "g.map(plt.hist, 'age', bins=20)"
   ]
  },
  {
   "cell_type": "code",
   "execution_count": 28,
   "metadata": {},
   "outputs": [
    {
     "data": {
      "text/plain": [
       "<seaborn.axisgrid.FacetGrid at 0x117dbba50>"
      ]
     },
     "execution_count": 28,
     "metadata": {},
     "output_type": "execute_result"
    },
    {
     "data": {
      "image/png": "[encoded data removed]",
      "text/plain": [
       "<matplotlib.figure.Figure at 0x1179569d0>"
      ]
     },
     "metadata": {},
     "output_type": "display_data"
    }
   ],
   "source": [
    "g = sns.FacetGrid(titanic, col=\"survived\", row=\"pclass\", size=2.2, aspect=1.5)\n",
    "g.map(plt.hist,'age', bins=20, alpha=.5)\n",
    "#aspect changes the width of the bar \n",
    "#alpha changes the transparacy of the bar color, so that you can see the grid "
   ]
  },
  {
   "cell_type": "code",
   "execution_count": 29,
   "metadata": {},
   "outputs": [
    {
     "data": {
      "text/plain": [
       "<seaborn.axisgrid.FacetGrid at 0x118763810>"
      ]
     },
     "execution_count": 29,
     "metadata": {},
     "output_type": "execute_result"
    },
    {
     "data": {
      "image/png": "[encoded data removed]",
      "text/plain": [
       "<matplotlib.figure.Figure at 0x118763890>"
      ]
     },
     "metadata": {},
     "output_type": "display_data"
    }
   ],
   "source": [
    "g = sns.FacetGrid(titanic, col=\"survived\", row=\"embarked\")\n",
    "g.map(plt.hist, \"age\")"
   ]
  },
  {
   "cell_type": "code",
   "execution_count": null,
   "metadata": {
    "scrolled": false
   },
   "outputs": [],
   "source": []
  },
  {
   "cell_type": "code",
   "execution_count": 30,
   "metadata": {},
   "outputs": [
    {
     "name": "stdout",
     "output_type": "stream",
     "text": [
      "0       1\n",
      "1       1\n",
      "2       0\n",
      "3       1\n",
      "4       0\n",
      "5       0\n",
      "6       1\n",
      "7       0\n",
      "8       1\n",
      "9       0\n",
      "10      0\n",
      "11      1\n",
      "12      1\n",
      "13      0\n",
      "14      0\n",
      "15      1\n",
      "16      0\n",
      "17      0\n",
      "18      0\n",
      "19      1\n",
      "20      0\n",
      "21      0\n",
      "22      0\n",
      "23      1\n",
      "24      0\n",
      "25      0\n",
      "26      0\n",
      "27      1\n",
      "28      1\n",
      "29      0\n",
      "       ..\n",
      "1283    1\n",
      "1284    0\n",
      "1285    0\n",
      "1286    0\n",
      "1287    0\n",
      "1288    0\n",
      "1289    0\n",
      "1290    0\n",
      "1291    0\n",
      "1292    0\n",
      "1293    1\n",
      "1294    0\n",
      "1295    0\n",
      "1296    0\n",
      "1297    0\n",
      "1298    0\n",
      "1299    0\n",
      "1300    0\n",
      "1301    0\n",
      "1302    0\n",
      "1303    0\n",
      "1304    1\n",
      "1305    0\n",
      "1306    1\n",
      "1307    1\n",
      "1308    0\n",
      "1309    0\n",
      "1310    0\n",
      "1311    1\n",
      "1312    0\n",
      "Name: sex_int, dtype: int64\n"
     ]
    }
   ],
   "source": [
    "titanic[\"sex_int\"] = titanic[\"sex\"].map({\"male\":0,\"female\":1}).astype(int)\n",
    "print(titanic[\"sex_int\"])"
   ]
  },
  {
   "cell_type": "code",
   "execution_count": 31,
   "metadata": {},
   "outputs": [
    {
     "name": "stdout",
     "output_type": "stream",
     "text": [
      "                  row.names        age  sex_int\n",
      "survived sex                                   \n",
      "0        female  887.685897  26.545455      1.0\n",
      "         male    724.772599  33.062770      0.0\n",
      "1        female  445.117264  31.463149      1.0\n",
      "         male    523.746479  26.017276      0.0\n"
     ]
    },
    {
     "data": {
      "text/html": [
       "<div>\n",
       "<table border=\"1\" class=\"dataframe\">\n",
       "  <thead>\n",
       "    <tr style=\"text-align: right;\">\n",
       "      <th></th>\n",
       "      <th>row.names</th>\n",
       "      <th>age</th>\n",
       "      <th>sex_int</th>\n",
       "    </tr>\n",
       "    <tr>\n",
       "      <th>survived</th>\n",
       "      <th></th>\n",
       "      <th></th>\n",
       "      <th></th>\n",
       "    </tr>\n",
       "  </thead>\n",
       "  <tbody>\n",
       "    <tr>\n",
       "      <th>0</th>\n",
       "      <td>754.18750</td>\n",
       "      <td>32.248106</td>\n",
       "      <td>0.180556</td>\n",
       "    </tr>\n",
       "    <tr>\n",
       "      <th>1</th>\n",
       "      <td>469.98441</td>\n",
       "      <td>29.873962</td>\n",
       "      <td>0.683742</td>\n",
       "    </tr>\n",
       "  </tbody>\n",
       "</table>\n",
       "</div>"
      ],
      "text/plain": [
       "          row.names        age   sex_int\n",
       "survived                                \n",
       "0         754.18750  32.248106  0.180556\n",
       "1         469.98441  29.873962  0.683742"
      ]
     },
     "execution_count": 31,
     "metadata": {},
     "output_type": "execute_result"
    }
   ],
   "source": [
    "print(titanic.groupby([\"survived\",\"sex\"]).mean())\n",
    "titanic.groupby(\"survived\", axis=0).mean()"
   ]
  },
  {
   "cell_type": "code",
   "execution_count": 32,
   "metadata": {},
   "outputs": [
    {
     "data": {
      "text/plain": [
       "0                           Allen, Miss Elisabeth Walton\n",
       "1                            Allison, Miss Helen Loraine\n",
       "2                    Allison, Mr Hudson Joshua Creighton\n",
       "3        Allison, Mrs Hudson J.C. (Bessie Waldo Daniels)\n",
       "4                          Allison, Master Hudson Trevor\n",
       "5                                     Anderson, Mr Harry\n",
       "6                       Andrews, Miss Kornelia Theodosia\n",
       "7                                 Andrews, Mr Thomas, jr\n",
       "8           Appleton, Mrs Edward Dale (Charlotte Lamson)\n",
       "9                                 Artagaveytia, Mr Ramon\n",
       "10                             Astor, Colonel John Jacob\n",
       "11      Astor, Mrs John Jacob (Madeleine Talmadge Force)\n",
       "12                          Aubert, Mrs Leontine Pauline\n",
       "13                             Barkworth, Mr Algernon H.\n",
       "14                                   Baumann, Mr John D.\n",
       "15        Baxter, Mrs James (Helene DeLaudeniere Chaput)\n",
       "16                               Baxter, Mr Quigg Edmond\n",
       "17                                   Beattie, Mr Thomson\n",
       "18                          Beckwith, Mr Richard Leonard\n",
       "19       Beckwith, Mrs Richard Leonard (Sallie Monypeny)\n",
       "20                                  Behr, Mr Karl Howell\n",
       "21                                    Birnbaum, Mr Jakob\n",
       "22                               Bishop, Mr Dickinson H.\n",
       "23               Bishop, Mrs Dickinson H. (Helen Walton)\n",
       "24               Bjornstrm-Steffansson, Mr Mauritz Hakan\n",
       "25                           Blackwell, Mr Stephen Weart\n",
       "26                                       Blank, Mr Henry\n",
       "27                                Bonnell, Miss Caroline\n",
       "28                               Bonnell, Miss Elizabeth\n",
       "29                               Borebank, Mr John James\n",
       "                              ...                       \n",
       "1283                 Vestrom, Miss Hulda Amanda Adolfina\n",
       "1284                                      Vonk, Mr Jenko\n",
       "1285                                  Ware, Mr Frederick\n",
       "1286                          Warren, Mr Charles William\n",
       "1287                                    Wazli, Mr Yousif\n",
       "1288                                    Webber, Mr James\n",
       "1289                       Wennerstrom, Mr August Edvard\n",
       "1290                                  Wenzel, Mr Linhart\n",
       "1291                          Widegren, Mr Charles Peter\n",
       "1292                            Wiklund, Mr Jacob Alfred\n",
       "1293                                   Wilkes, Mrs Ellen\n",
       "1294                                    Willer, Mr Aaron\n",
       "1295                                   Willey, Mr Edward\n",
       "1296                            Williams, Mr Howard Hugh\n",
       "1297                                 Williams, Mr Leslie\n",
       "1298                                  Windelov, Mr Einar\n",
       "1299                                     Wirz, Mr Albert\n",
       "1300                               Wiseman, Mr Phillippe\n",
       "1301                             Wittevrongel, Mr Camiel\n",
       "1302                                   Yalsevac, Mr Ivan\n",
       "1303                                  Yasbeck, Mr Antoni\n",
       "1304                                 Yasbeck, Mrs Antoni\n",
       "1305                                  Youssef, Mr Gerios\n",
       "1306                                 Zabour, Miss Hileni\n",
       "1307                                 Zabour, Miss Tamini\n",
       "1308                                  Zakarian, Mr Artun\n",
       "1309                              Zakarian, Mr Maprieder\n",
       "1310                                     Zenn, Mr Philip\n",
       "1311                                       Zievens, Rene\n",
       "1312                                      Zimmerman, Leo\n",
       "Name: name, dtype: object"
      ]
     },
     "execution_count": 32,
     "metadata": {},
     "output_type": "execute_result"
    }
   ],
   "source": [
    "titanic[\"name\"]"
   ]
  },
  {
   "cell_type": "code",
   "execution_count": 33,
   "metadata": {},
   "outputs": [
    {
     "name": "stdout",
     "output_type": "stream",
     "text": [
      "950\n",
      "236\n",
      "61\n",
      "0\n"
     ]
    }
   ],
   "source": [
    "import re \n",
    "count_mr = 0 \n",
    "count_miss = 0 \n",
    "count_mrs = 0 \n",
    "count_master = 0 \n",
    "\n",
    "for names in titanic[\"name\"]: \n",
    "    if re.search(\"Mr\", names) is not None: \n",
    "        count_mr += 1 \n",
    "    elif re.search(\"Miss\", names) is not None: \n",
    "        count_miss += 1 \n",
    "    elif re.search(\"M.s\", names) is not None: \n",
    "        count_mrs += 1 \n",
    "    elif re.search(\"Master\", names) is not None: \n",
    "        count_master += 1 \n",
    "print(count_mr)\n",
    "print(count_miss)\n",
    "print(count_mrs) \n",
    "print(count_master)\n"
   ]
  },
  {
   "cell_type": "code",
   "execution_count": 34,
   "metadata": {},
   "outputs": [
    {
     "name": "stdout",
     "output_type": "stream",
     "text": [
      "Found\n",
      "Found\n"
     ]
    }
   ],
   "source": [
    "if re.search(\"Ar.\", \"Arata\") is not None: \n",
    "    print(\"Found\")\n",
    "\n",
    "if re.search(\"A.a\", \"Arata\") is not None: \n",
    "    print(\"Found\")"
   ]
  },
  {
   "cell_type": "code",
   "execution_count": 45,
   "metadata": {},
   "outputs": [
    {
     "name": "stdout",
     "output_type": "stream",
     "text": [
      "0\n"
     ]
    }
   ],
   "source": [
    "sex = titanic[\"sex\"] \n",
    "sex_is_null = pd.isnull(sex)\n",
    "sex_null_true = sex[sex_is_null]\n",
    "print(len(sex_null_true)) "
   ]
  },
  {
   "cell_type": "code",
   "execution_count": 48,
   "metadata": {},
   "outputs": [
    {
     "name": "stdout",
     "output_type": "stream",
     "text": [
      "0\n",
      "1244\n"
     ]
    }
   ],
   "source": [
    "def nul_values(value):\n",
    "    value_is_null = pd.isnull(value)\n",
    "    value_null_true = value[value_is_null]\n",
    "    return len(value_null_true) \n",
    "\n",
    "sex_null_counts = nul_values(titanic[\"sex\"])\n",
    "print(sex_null_counts)\n",
    "\n",
    "ticket_null_counts = nul_values(titanic[\"ticket\"])\n",
    "print(ticket_null_counts)\n",
    "    "
   ]
  },
  {
   "cell_type": "code",
   "execution_count": 51,
   "metadata": {},
   "outputs": [
    {
     "name": "stdout",
     "output_type": "stream",
     "text": [
      "0       False\n",
      "1        True\n",
      "2        True\n",
      "3        True\n",
      "4        True\n",
      "5        True\n",
      "6       False\n",
      "7        True\n",
      "8        True\n",
      "9        True\n",
      "10      False\n",
      "11      False\n",
      "12      False\n",
      "13       True\n",
      "14       True\n",
      "15       True\n",
      "16       True\n",
      "17       True\n",
      "18       True\n",
      "19       True\n",
      "20       True\n",
      "21       True\n",
      "22       True\n",
      "23       True\n",
      "24      False\n",
      "25       True\n",
      "26       True\n",
      "27       True\n",
      "28       True\n",
      "29       True\n",
      "        ...  \n",
      "1283     True\n",
      "1284     True\n",
      "1285     True\n",
      "1286     True\n",
      "1287     True\n",
      "1288     True\n",
      "1289     True\n",
      "1290     True\n",
      "1291     True\n",
      "1292     True\n",
      "1293     True\n",
      "1294     True\n",
      "1295     True\n",
      "1296     True\n",
      "1297     True\n",
      "1298     True\n",
      "1299     True\n",
      "1300     True\n",
      "1301     True\n",
      "1302     True\n",
      "1303     True\n",
      "1304     True\n",
      "1305     True\n",
      "1306     True\n",
      "1307     True\n",
      "1308     True\n",
      "1309     True\n",
      "1310     True\n",
      "1311     True\n",
      "1312     True\n",
      "Name: ticket, dtype: bool\n",
      "1244\n"
     ]
    }
   ],
   "source": [
    "ticket = titanic[\"ticket\"]\n",
    "ticket_null_value = pd.isnull(ticket)\n",
    "print(ticket_null_value)\n",
    "ticket_is_null = ticket[ticket_null_value]\n",
    "print(len(ticket_is_null))"
   ]
  },
  {
   "cell_type": "code",
   "execution_count": null,
   "metadata": {
    "collapsed": true
   },
   "outputs": [],
   "source": []
  }
 ],
 "metadata": {
  "anaconda-cloud": {},
  "kernelspec": {
   "display_name": "Python 3",
   "language": "python",
   "name": "python3"
  },
  "language_info": {
   "codemirror_mode": {
    "name": "ipython",
    "version": 3
   },
   "file_extension": ".py",
   "mimetype": "text/x-python",
   "name": "python",
   "nbconvert_exporter": "python",
   "pygments_lexer": "ipython3",
   "version": "3.6.1"
  }
 },
 "nbformat": 4,
 "nbformat_minor": 1
}
