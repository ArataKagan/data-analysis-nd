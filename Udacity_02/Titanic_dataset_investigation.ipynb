{
 "cells": [
  {
   "cell_type": "markdown",
   "metadata": {},
   "source": [
    "# Introduction to Dataset and Overview "
   ]
  },
  {
   "cell_type": "markdown",
   "metadata": {},
   "source": [
    "As part of the Udacity Data Analysis Nanodegree's Intro to Data Analysis project, I will examine the Titanic Survival rate dataset. This dataset contains the following columns: \n",
    "\n",
    "- Passenger ID: the number that differentiates passengers \n",
    "- Survived: Whether the passenger survived the accident or not (independent variable)\n",
    "    - 0 = No, 1 = Yes \n",
    "- Pclass: Passenger class which indicates the passenger's socioeconomic class. \n",
    "    - 1 = 1st, 2 = 2nd, 3 = 3rd \n",
    "- Name: Passenger's name \n",
    "- Sex: Passenger's gender \n",
    "- Age: Passenger's age \n",
    "- SibSp: Number of siblings and spouses. \n",
    "    - Sibling = brother, sister, stepbrother, stepsister\n",
    "    - Spouse = husband, wife (mistresses and fiancés were ignored)\n",
    "- Parch: Number of parents and children. \n",
    "    - Parent = mother, father\n",
    "    - Child = daughter, son, stepdaughter, stepson\n",
    "    - Some children travelled only with a nanny, therefore parch=0 for them.\n",
    "- Ticket: Passenger's ticket number \n",
    "- Fare: The price of fare the passenger paid for\n",
    "- Cabin: Passenger's cabin number \n",
    "- Embarked: The port the passenger embarked from\n",
    "    - S: Southampton, C = Cherbourg, Q = Queenstown \n",
    "    \n",
    "Reference: https://www.kaggle.com/c/titanic/data"
   ]
  },
  {
   "cell_type": "markdown",
   "metadata": {},
   "source": [
    "# Questions "
   ]
  },
  {
   "cell_type": "markdown",
   "metadata": {},
   "source": [
    "Throughout this dataset, I am interested in investigating how 5 areas of variables (age groups, gender, passenger class, fare price and number of family members) affect each passenger's survival rate. Specifically, my questions are addressed as followed: \n",
    "\n",
    "1) Do children have the highest survival rate compared to other age groups? Is the teenage group's survival rate different from other age groups? \n",
    "\n",
    "2) Are females more likely to survive than males? If so, which female age group has the highest survival rate? Which female age group has the lowest survival rate? \n",
    "\n",
    "3) Are people who pay more fare more likely to survive compared to people who pay less fare?\n",
    "\n",
    "4) Are higher class passengers more likely to survive than lower class passengers? In addition, how do gender groups' survival rate vary based on their passenger class?  \n",
    "\n",
    "5) Do passengers with family members tend to survive more than single passengers? "
   ]
  },
  {
   "cell_type": "markdown",
   "metadata": {},
   "source": [
    "# Data Acquisition and Data Cleaning "
   ]
  },
  {
   "cell_type": "code",
   "execution_count": 40,
   "metadata": {},
   "outputs": [
    {
     "name": "stdout",
     "output_type": "stream",
     "text": [
      "Populating the interactive namespace from numpy and matplotlib\n"
     ]
    },
    {
     "data": {
      "text/html": [
       "<div>\n",
       "<style>\n",
       "    .dataframe thead tr:only-child th {\n",
       "        text-align: right;\n",
       "    }\n",
       "\n",
       "    .dataframe thead th {\n",
       "        text-align: left;\n",
       "    }\n",
       "\n",
       "    .dataframe tbody tr th {\n",
       "        vertical-align: top;\n",
       "    }\n",
       "</style>\n",
       "<table border=\"1\" class=\"dataframe\">\n",
       "  <thead>\n",
       "    <tr style=\"text-align: right;\">\n",
       "      <th></th>\n",
       "      <th>PassengerId</th>\n",
       "      <th>Survived</th>\n",
       "      <th>Pclass</th>\n",
       "      <th>Name</th>\n",
       "      <th>Sex</th>\n",
       "      <th>Age</th>\n",
       "      <th>SibSp</th>\n",
       "      <th>Parch</th>\n",
       "      <th>Ticket</th>\n",
       "      <th>Fare</th>\n",
       "      <th>Cabin</th>\n",
       "      <th>Embarked</th>\n",
       "    </tr>\n",
       "  </thead>\n",
       "  <tbody>\n",
       "    <tr>\n",
       "      <th>0</th>\n",
       "      <td>1</td>\n",
       "      <td>0</td>\n",
       "      <td>3</td>\n",
       "      <td>Braund, Mr. Owen Harris</td>\n",
       "      <td>male</td>\n",
       "      <td>22.0</td>\n",
       "      <td>1</td>\n",
       "      <td>0</td>\n",
       "      <td>A/5 21171</td>\n",
       "      <td>7.2500</td>\n",
       "      <td>NaN</td>\n",
       "      <td>S</td>\n",
       "    </tr>\n",
       "    <tr>\n",
       "      <th>1</th>\n",
       "      <td>2</td>\n",
       "      <td>1</td>\n",
       "      <td>1</td>\n",
       "      <td>Cumings, Mrs. John Bradley (Florence Briggs Th...</td>\n",
       "      <td>female</td>\n",
       "      <td>38.0</td>\n",
       "      <td>1</td>\n",
       "      <td>0</td>\n",
       "      <td>PC 17599</td>\n",
       "      <td>71.2833</td>\n",
       "      <td>C85</td>\n",
       "      <td>C</td>\n",
       "    </tr>\n",
       "    <tr>\n",
       "      <th>2</th>\n",
       "      <td>3</td>\n",
       "      <td>1</td>\n",
       "      <td>3</td>\n",
       "      <td>Heikkinen, Miss. Laina</td>\n",
       "      <td>female</td>\n",
       "      <td>26.0</td>\n",
       "      <td>0</td>\n",
       "      <td>0</td>\n",
       "      <td>STON/O2. 3101282</td>\n",
       "      <td>7.9250</td>\n",
       "      <td>NaN</td>\n",
       "      <td>S</td>\n",
       "    </tr>\n",
       "    <tr>\n",
       "      <th>3</th>\n",
       "      <td>4</td>\n",
       "      <td>1</td>\n",
       "      <td>1</td>\n",
       "      <td>Futrelle, Mrs. Jacques Heath (Lily May Peel)</td>\n",
       "      <td>female</td>\n",
       "      <td>35.0</td>\n",
       "      <td>1</td>\n",
       "      <td>0</td>\n",
       "      <td>113803</td>\n",
       "      <td>53.1000</td>\n",
       "      <td>C123</td>\n",
       "      <td>S</td>\n",
       "    </tr>\n",
       "    <tr>\n",
       "      <th>4</th>\n",
       "      <td>5</td>\n",
       "      <td>0</td>\n",
       "      <td>3</td>\n",
       "      <td>Allen, Mr. William Henry</td>\n",
       "      <td>male</td>\n",
       "      <td>35.0</td>\n",
       "      <td>0</td>\n",
       "      <td>0</td>\n",
       "      <td>373450</td>\n",
       "      <td>8.0500</td>\n",
       "      <td>NaN</td>\n",
       "      <td>S</td>\n",
       "    </tr>\n",
       "  </tbody>\n",
       "</table>\n",
       "</div>"
      ],
      "text/plain": [
       "   PassengerId  Survived  Pclass  \\\n",
       "0            1         0       3   \n",
       "1            2         1       1   \n",
       "2            3         1       3   \n",
       "3            4         1       1   \n",
       "4            5         0       3   \n",
       "\n",
       "                                                Name     Sex   Age  SibSp  \\\n",
       "0                            Braund, Mr. Owen Harris    male  22.0      1   \n",
       "1  Cumings, Mrs. John Bradley (Florence Briggs Th...  female  38.0      1   \n",
       "2                             Heikkinen, Miss. Laina  female  26.0      0   \n",
       "3       Futrelle, Mrs. Jacques Heath (Lily May Peel)  female  35.0      1   \n",
       "4                           Allen, Mr. William Henry    male  35.0      0   \n",
       "\n",
       "   Parch            Ticket     Fare Cabin Embarked  \n",
       "0      0         A/5 21171   7.2500   NaN        S  \n",
       "1      0          PC 17599  71.2833   C85        C  \n",
       "2      0  STON/O2. 3101282   7.9250   NaN        S  \n",
       "3      0            113803  53.1000  C123        S  \n",
       "4      0            373450   8.0500   NaN        S  "
      ]
     },
     "execution_count": 40,
     "metadata": {},
     "output_type": "execute_result"
    }
   ],
   "source": [
    "import pandas as pd \n",
    "import numpy as np \n",
    "import matplotlib.pyplot as plt \n",
    "import seaborn as sns \n",
    "%pylab inline \n",
    "\n",
    "sns.set()\n",
    "\n",
    "titanic = pd.read_csv('titanic-data.csv')\n",
    "titanic.head()"
   ]
  },
  {
   "cell_type": "code",
   "execution_count": 41,
   "metadata": {},
   "outputs": [
    {
     "data": {
      "text/plain": [
       "(891, 12)"
      ]
     },
     "execution_count": 41,
     "metadata": {},
     "output_type": "execute_result"
    }
   ],
   "source": [
    "titanic.shape"
   ]
  },
  {
   "cell_type": "code",
   "execution_count": 42,
   "metadata": {},
   "outputs": [
    {
     "data": {
      "text/plain": [
       "PassengerId      0\n",
       "Survived         0\n",
       "Pclass           0\n",
       "Name             0\n",
       "Sex              0\n",
       "Age            177\n",
       "SibSp            0\n",
       "Parch            0\n",
       "Ticket           0\n",
       "Fare             0\n",
       "Cabin          687\n",
       "Embarked         2\n",
       "dtype: int64"
      ]
     },
     "execution_count": 42,
     "metadata": {},
     "output_type": "execute_result"
    }
   ],
   "source": [
    "titanic.isnull().sum()"
   ]
  },
  {
   "cell_type": "markdown",
   "metadata": {},
   "source": [
    "- 'Age' column has 177 missing values. I will delete the rows of missing values. \n",
    "- 'Cabin' column has 687 missing values. Because there are too many missing values on this column, I will drop the entire column. \n",
    "- 'Embarked' column has 2 missing values. I will delete the rows of the missing values.\n",
    "- I will delete 'PassangerId' and 'Ticket' columns since I am not going to use them. "
   ]
  },
  {
   "cell_type": "code",
   "execution_count": 43,
   "metadata": {
    "collapsed": true
   },
   "outputs": [],
   "source": [
    "titanic.dropna(subset=['Age'], inplace=True) \n",
    "\n",
    "titanic.drop('Cabin', axis='columns', inplace=True)\n",
    "\n",
    "titanic.dropna(subset=['Embarked'], inplace=True)\n",
    "\n",
    "titanic.drop('PassengerId',axis='columns',inplace=True) \n",
    "\n",
    "titanic.drop('Ticket',axis='columns',inplace=True) "
   ]
  },
  {
   "cell_type": "code",
   "execution_count": 44,
   "metadata": {
    "scrolled": true
   },
   "outputs": [
    {
     "data": {
      "text/plain": [
       "Survived    0\n",
       "Pclass      0\n",
       "Name        0\n",
       "Sex         0\n",
       "Age         0\n",
       "SibSp       0\n",
       "Parch       0\n",
       "Fare        0\n",
       "Embarked    0\n",
       "dtype: int64"
      ]
     },
     "execution_count": 44,
     "metadata": {},
     "output_type": "execute_result"
    }
   ],
   "source": [
    "titanic.isnull().sum()"
   ]
  },
  {
   "cell_type": "code",
   "execution_count": 45,
   "metadata": {},
   "outputs": [
    {
     "data": {
      "text/plain": [
       "(712, 9)"
      ]
     },
     "execution_count": 45,
     "metadata": {},
     "output_type": "execute_result"
    }
   ],
   "source": [
    "titanic.shape"
   ]
  },
  {
   "cell_type": "markdown",
   "metadata": {},
   "source": [
    "# Data Wrangling and Exploration "
   ]
  },
  {
   "cell_type": "code",
   "execution_count": 46,
   "metadata": {},
   "outputs": [
    {
     "name": "stdout",
     "output_type": "stream",
     "text": [
      "<class 'pandas.core.frame.DataFrame'>\n",
      "Int64Index: 712 entries, 0 to 890\n",
      "Data columns (total 9 columns):\n",
      "Survived    712 non-null int64\n",
      "Pclass      712 non-null int64\n",
      "Name        712 non-null object\n",
      "Sex         712 non-null object\n",
      "Age         712 non-null float64\n",
      "SibSp       712 non-null int64\n",
      "Parch       712 non-null int64\n",
      "Fare        712 non-null float64\n",
      "Embarked    712 non-null object\n",
      "dtypes: float64(2), int64(4), object(3)\n",
      "memory usage: 55.6+ KB\n"
     ]
    }
   ],
   "source": [
    "titanic.info()"
   ]
  },
  {
   "cell_type": "code",
   "execution_count": 47,
   "metadata": {},
   "outputs": [
    {
     "name": "stdout",
     "output_type": "stream",
     "text": [
      "         Survived      Pclass         Age       SibSp       Parch        Fare\n",
      "count  712.000000  712.000000  712.000000  712.000000  712.000000  712.000000\n",
      "mean     0.404494    2.240169   29.642093    0.514045    0.432584   34.567251\n",
      "std      0.491139    0.836854   14.492933    0.930692    0.854181   52.938648\n",
      "min      0.000000    1.000000    0.420000    0.000000    0.000000    0.000000\n",
      "25%      0.000000    1.000000   20.000000    0.000000    0.000000    8.050000\n",
      "50%      0.000000    2.000000   28.000000    0.000000    0.000000   15.645850\n",
      "75%      1.000000    3.000000   38.000000    1.000000    1.000000   33.000000\n",
      "max      1.000000    3.000000   80.000000    5.000000    6.000000  512.329200\n"
     ]
    }
   ],
   "source": [
    "print(titanic.describe())"
   ]
  },
  {
   "cell_type": "code",
   "execution_count": 48,
   "metadata": {},
   "outputs": [
    {
     "data": {
      "text/html": [
       "<div>\n",
       "<style>\n",
       "    .dataframe thead tr:only-child th {\n",
       "        text-align: right;\n",
       "    }\n",
       "\n",
       "    .dataframe thead th {\n",
       "        text-align: left;\n",
       "    }\n",
       "\n",
       "    .dataframe tbody tr th {\n",
       "        vertical-align: top;\n",
       "    }\n",
       "</style>\n",
       "<table border=\"1\" class=\"dataframe\">\n",
       "  <thead>\n",
       "    <tr style=\"text-align: right;\">\n",
       "      <th></th>\n",
       "      <th>Name</th>\n",
       "      <th>Sex</th>\n",
       "      <th>Embarked</th>\n",
       "    </tr>\n",
       "  </thead>\n",
       "  <tbody>\n",
       "    <tr>\n",
       "      <th>count</th>\n",
       "      <td>712</td>\n",
       "      <td>712</td>\n",
       "      <td>712</td>\n",
       "    </tr>\n",
       "    <tr>\n",
       "      <th>unique</th>\n",
       "      <td>712</td>\n",
       "      <td>2</td>\n",
       "      <td>3</td>\n",
       "    </tr>\n",
       "    <tr>\n",
       "      <th>top</th>\n",
       "      <td>Sivic, Mr. Husein</td>\n",
       "      <td>male</td>\n",
       "      <td>S</td>\n",
       "    </tr>\n",
       "    <tr>\n",
       "      <th>freq</th>\n",
       "      <td>1</td>\n",
       "      <td>453</td>\n",
       "      <td>554</td>\n",
       "    </tr>\n",
       "  </tbody>\n",
       "</table>\n",
       "</div>"
      ],
      "text/plain": [
       "                     Name   Sex Embarked\n",
       "count                 712   712      712\n",
       "unique                712     2        3\n",
       "top     Sivic, Mr. Husein  male        S\n",
       "freq                    1   453      554"
      ]
     },
     "execution_count": 48,
     "metadata": {},
     "output_type": "execute_result"
    }
   ],
   "source": [
    "titanic.describe(include=['O'])"
   ]
  },
  {
   "cell_type": "code",
   "execution_count": 49,
   "metadata": {
    "collapsed": true
   },
   "outputs": [],
   "source": [
    "def correlation(x, y): #Will measure a correlation between survival rate and each variable  \n",
    "    x_std = (x - x.mean())/x.std(ddof=0)\n",
    "    y_std = (y - y.mean())/y.std(ddof=0)\n",
    "    \n",
    "    return (x_std * y_std).mean() "
   ]
  },
  {
   "cell_type": "markdown",
   "metadata": {},
   "source": [
    "## Age groups "
   ]
  },
  {
   "cell_type": "code",
   "execution_count": 50,
   "metadata": {},
   "outputs": [
    {
     "name": "stdout",
     "output_type": "stream",
     "text": [
      "                 Survived\n",
      "age_categorized          \n",
      "<10              0.612903\n",
      "<20              0.401961\n",
      "20s              0.350000\n",
      "30s              0.433735\n",
      "40s              0.382022\n",
      "50s              0.416667\n",
      "60s              0.277778\n",
      "70s              0.000000\n",
      "80s              1.000000\n",
      "Correlation between Age and Survival rate is:  -0.07797322604397754\n"
     ]
    },
    {
     "data": {
      "image/png": "[encoded data removed]",
      "text/plain": [
       "<matplotlib.figure.Figure at 0x11b7ee9b0>"
      ]
     },
     "metadata": {},
     "output_type": "display_data"
    }
   ],
   "source": [
    "#Creates a function to categorize age columns into a category. \n",
    "def age_category(data): \n",
    "    if data < 10: \n",
    "        return '<10'\n",
    "    elif data < 20:\n",
    "        return '<20'\n",
    "    elif data < 30:\n",
    "        return '20s'\n",
    "    elif data < 40: \n",
    "        return '30s'\n",
    "    elif data < 50:\n",
    "        return '40s'\n",
    "    elif data < 60:\n",
    "        return '50s'\n",
    "    elif data < 70:\n",
    "        return '60s'\n",
    "    elif data < 80:\n",
    "        return '70s'\n",
    "    else:\n",
    "        return '80s'\n",
    "\n",
    "age = titanic['Age']\n",
    "titanic['age_categorized'] = age.apply(age_category) # Apply the age column into the category function above. \n",
    "g = sns.countplot(x = titanic['age_categorized'], hue=titanic['Survived'], order=['<10','<20','20s','30s','40s','50s','60s','70s','80s'], palette='Paired')\n",
    "g.set_title('Frequency of Age Category by Survival')\n",
    "g.set_ylabel('Frequency')\n",
    "g.set_xlabel('Age Groups')\n",
    "\n",
    "#Since I need to order '<10' and '<20' in the beginning of the order, \n",
    "#I will use pd.Categorical to specify the order of the age category  \n",
    "titanic['age_categorized'] = pd.Categorical(titanic['age_categorized'], ['<10','<20','20s','30s','40s','50s','60s','70s','80s']) \n",
    "print(titanic[['age_categorized','Survived']].groupby('age_categorized').mean())\n",
    " \n",
    "#Transform the category values into numerical values \n",
    "#for computing the correlation with the survival column\n",
    "mapping_age = {'<10':0,'<20':1,'20s':2,'30s':3,'40s':4,'50s':5,'60s':6,'70s':7,'80s':8 }\n",
    "age_categorized = titanic['age_categorized']\n",
    "titanic['mapped_age'] = age_categorized.map(mapping_age)\n",
    "\n",
    "age_survival = correlation(titanic['mapped_age'], titanic['Survived'])\n",
    "print(\"Correlation between Age and Survival rate is: \", age_survival)"
   ]
  },
  {
   "cell_type": "markdown",
   "metadata": {},
   "source": [
    "- The less than 10 years old age group is the only age group with more passengers surviving than not. The survival ratio with this group is 61%.  \n",
    "- The survival ratio for the 30 years old age group is 43%, which is the second highest survival ratio among other age groups followed by the 50 years old age group (42%), the less than 20 years old age group (40%), the 40 years old age group (38%), the 20 years old age group (35%) and the 60 years old age group (28%). \n",
    "- While the less than 10 years old age group has the highest survival rate, the less than 20 years old age group (teenage group) has the third place for the survival rate.  \n",
    "- Age category is not correlated with survival rate (-0.078)."
   ]
  },
  {
   "cell_type": "code",
   "execution_count": 51,
   "metadata": {
    "scrolled": true
   },
   "outputs": [
    {
     "data": {
      "text/plain": [
       "20s    220\n",
       "30s    166\n",
       "<20    102\n",
       "40s     89\n",
       "<10     62\n",
       "50s     48\n",
       "60s     18\n",
       "70s      6\n",
       "80s      1\n",
       "Name: age_categorized, dtype: int64"
      ]
     },
     "execution_count": 51,
     "metadata": {},
     "output_type": "execute_result"
    }
   ],
   "source": [
    "titanic['age_categorized'].value_counts()"
   ]
  },
  {
   "cell_type": "markdown",
   "metadata": {},
   "source": [
    "## Gender "
   ]
  },
  {
   "cell_type": "code",
   "execution_count": 52,
   "metadata": {
    "collapsed": true
   },
   "outputs": [],
   "source": [
    "female = titanic[titanic['Sex'] == 'female']\n",
    "male = titanic[titanic['Sex'] == 'male']\n",
    "gender = {'male':0, 'female':1}\n",
    "titanic['Sex_num'] = titanic['Sex'].map(gender) "
   ]
  },
  {
   "cell_type": "code",
   "execution_count": 53,
   "metadata": {
    "scrolled": false
   },
   "outputs": [
    {
     "name": "stdout",
     "output_type": "stream",
     "text": [
      "Female survival rate by age\n",
      "                 Survived\n",
      "age_categorized          \n",
      "<10              0.633333\n",
      "<20              0.755556\n",
      "20s              0.722222\n",
      "30s              0.830508\n",
      "40s              0.687500\n",
      "50s              0.888889\n",
      "60s              1.000000\n",
      "70s                   NaN\n",
      "80s                   NaN\n",
      "-------------------------\n",
      "Male survival rate by age\n",
      "                 Survived\n",
      "age_categorized          \n",
      "<10              0.593750\n",
      "<20              0.122807\n",
      "20s              0.168919\n",
      "30s              0.214953\n",
      "40s              0.210526\n",
      "50s              0.133333\n",
      "60s              0.133333\n",
      "70s              0.000000\n",
      "80s              1.000000\n",
      "Correlation between gender and survival rate is:  0.5367616233485014\n"
     ]
    },
    {
     "data": {
      "image/png": "[encoded data removed]",
      "text/plain": [
       "<matplotlib.figure.Figure at 0x11739e4a8>"
      ]
     },
     "metadata": {},
     "output_type": "display_data"
    }
   ],
   "source": [
    "sns.factorplot(x='age_categorized', hue='Survived', data=titanic, col='Sex', kind='count', palette=\"Set2\")\n",
    "print('Female survival rate by age')\n",
    "print(female[['age_categorized','Survived']].groupby('age_categorized').mean())\n",
    "print('-------------------------')\n",
    "print('Male survival rate by age')\n",
    "print(male[['age_categorized','Survived']].groupby('age_categorized').mean())\n",
    "sex_survival = correlation(titanic['Sex_num'], titanic['Survived'])\n",
    "print('Correlation between gender and survival rate is: ', sex_survival)"
   ]
  },
  {
   "cell_type": "markdown",
   "metadata": {},
   "source": [
    "- More female passengers survived than males for each age group. \n",
    "- The less than 10 years old female age group has the lowest survival rate among all age groups and the older generation tend to have a higher survival rate. \n",
    "- Gender is strongly correlated with survival rate (0.54)."
   ]
  },
  {
   "cell_type": "code",
   "execution_count": 54,
   "metadata": {},
   "outputs": [
    {
     "data": {
      "text/plain": [
       "<matplotlib.text.Text at 0x11b14d208>"
      ]
     },
     "execution_count": 54,
     "metadata": {},
     "output_type": "execute_result"
    },
    {
     "data": {
      "image/png": "[encoded data removed]",
      "text/plain": [
       "<matplotlib.figure.Figure at 0x11b4450f0>"
      ]
     },
     "metadata": {},
     "output_type": "display_data"
    }
   ],
   "source": [
    "g = sns.pointplot(x='Sex', y='Survived', hue='age_categorized', data=titanic)\n",
    "g.set_title('Mean Survival Rate - Gender by Age Category')\n",
    "g.set_ylabel('Mean Survival Rate')"
   ]
  },
  {
   "cell_type": "markdown",
   "metadata": {},
   "source": [
    "- Excluding 80s (only 1 passenger), male age group of less than 10 has a much higher mean survival rate with 60% although they have the lowest mean survival rate among female groups. "
   ]
  },
  {
   "cell_type": "markdown",
   "metadata": {},
   "source": [
    "## Fare "
   ]
  },
  {
   "cell_type": "code",
   "execution_count": 55,
   "metadata": {},
   "outputs": [
    {
     "name": "stdout",
     "output_type": "stream",
     "text": [
      "                  Survived\n",
      "Fare_grouped              \n",
      "(-0.001, 7.75]    0.192771\n",
      "(7.75, 7.902]     0.150000\n",
      "(7.902, 9.065]    0.239437\n",
      "(9.065, 12.925]   0.380282\n",
      "(12.925, 15.646]  0.323944\n",
      "(15.646, 26.0]    0.500000\n",
      "(26.0, 29.0]      0.511628\n",
      "(29.0, 46.9]      0.356164\n",
      "(46.9, 79.2]      0.628571\n",
      "(79.2, 512.329]   0.771429\n",
      "Correlation between fare and survival rate is:  0.26609960047658027\n"
     ]
    },
    {
     "data": {
      "image/png": "[encoded data removed]",
      "text/plain": [
       "<matplotlib.figure.Figure at 0x11732a3c8>"
      ]
     },
     "metadata": {},
     "output_type": "display_data"
    }
   ],
   "source": [
    "titanic['Fare_grouped'] = pd.qcut(titanic['Fare'], 10)\n",
    "g = sns.countplot(y='Fare_grouped',hue='Survived', data=titanic, palette='pastel')\n",
    "g.set_title('Frequency of Grouped Fares')\n",
    "g.set_xlabel('Frequency')\n",
    "g.set_ylabel('Grouped Fares')\n",
    "\n",
    "\n",
    "fare_grouped = titanic[['Fare_grouped','Survived']].groupby('Fare_grouped').mean()\n",
    "print(fare_grouped)\n",
    "\n",
    "fare_survival_correlation = correlation(titanic['Survived'], titanic['Fare'])\n",
    "print('Correlation between fare and survival rate is: ', fare_survival_correlation)"
   ]
  },
  {
   "cell_type": "markdown",
   "metadata": {},
   "source": [
    "- People who paid from 79.2 to 512.3 dollars have the highest survival rate with 77%.\n",
    "- On the other hand, people who paid from 7.75 to 7.9 dollars have the lowest survival rate with 15%. \n",
    "- Fare and survival rate seem to have a fair correlation (0.27)."
   ]
  },
  {
   "cell_type": "markdown",
   "metadata": {},
   "source": [
    "## Passenger Class"
   ]
  },
  {
   "cell_type": "code",
   "execution_count": 56,
   "metadata": {
    "scrolled": false
   },
   "outputs": [
    {
     "name": "stdout",
     "output_type": "stream",
     "text": [
      "Correlation between pclass and survival rate is:  -0.3564615884452376\n"
     ]
    },
    {
     "data": {
      "image/png": "[encoded data removed]",
      "text/plain": [
       "<matplotlib.figure.Figure at 0x11aee5898>"
      ]
     },
     "metadata": {},
     "output_type": "display_data"
    }
   ],
   "source": [
    "g = sns.pointplot(x='Pclass', y='Survived', hue='Sex', data=titanic)\n",
    "g.set_title('Mean Survival Rate - Passenger Class by Gender')\n",
    "g.set_xlabel('Passenger Class')\n",
    "g.set_ylabel('Mean Survival Rate')\n",
    "titanic[['Pclass','Survived']].groupby('Pclass').mean()\n",
    "\n",
    "pclass_survival_correlation = correlation(titanic['Pclass'], titanic['Survived'])\n",
    "print('Correlation between pclass and survival rate is: ', pclass_survival_correlation)"
   ]
  },
  {
   "cell_type": "markdown",
   "metadata": {},
   "source": [
    "- As the table illustrates above, 1st class passengers have the highest survival rate compared to 3rd class passengers. \n",
    "\n",
    "- For female passengers, there is a big gap in survival rate between being a 1st and 2nd class passenger and being a 3rd class passenger. For male passengers, being a 1st class passanger plays a bigger role for survival compared with 2nd and 3rd class passengers whose survival rate almost seems analogous. \n",
    "\n",
    "- A correlation seems to exist between passenger class and surivival rate(-0.36) as the class goes up, the survival rate goes down. \n",
    "\n",
    "- 3rd class female passengers have a slightly higher survival rate compared to 1st class male passengers. "
   ]
  },
  {
   "cell_type": "markdown",
   "metadata": {},
   "source": [
    "## Family members "
   ]
  },
  {
   "cell_type": "code",
   "execution_count": 57,
   "metadata": {},
   "outputs": [
    {
     "name": "stdout",
     "output_type": "stream",
     "text": [
      "Correlation between the number of family and survival rate is:  0.04506766048263239\n",
      "        Survived\n",
      "family          \n",
      "0       0.318408\n",
      "1       0.546763\n",
      "2       0.569892\n",
      "3       0.777778\n",
      "4       0.272727\n",
      "5       0.136364\n",
      "6       0.333333\n",
      "7       0.000000\n"
     ]
    },
    {
     "data": {
      "image/png": "[encoded data removed]",
      "text/plain": [
       "<matplotlib.figure.Figure at 0x11b78c630>"
      ]
     },
     "metadata": {},
     "output_type": "display_data"
    }
   ],
   "source": [
    "titanic['family'] = titanic['SibSp'] + titanic['Parch']\n",
    "g = sns.countplot(x='family', hue='Survived', data=titanic, palette='GnBu_d')\n",
    "g.set_title('Frequency of Number of Families by Survival')\n",
    "g.set_ylabel('Frequency')\n",
    "g.set_xlabel('Number of Family Members')\n",
    "\n",
    "titanic[['family','Survived']].groupby('family').mean()\n",
    "\n",
    "family = titanic['family']\n",
    "survive = titanic['Survived']\n",
    "family_survive = correlation(family, survive)\n",
    "print('Correlation between the number of family and survival rate is: ',family_survive)\n",
    "\n",
    "print(titanic[['family','Survived']].groupby('family').mean())"
   ]
  },
  {
   "cell_type": "markdown",
   "metadata": {},
   "source": [
    "- If you are single or have more than 4 family members, you are not very likely to survive. \n",
    "- Passengers with three family members have the highest survival rate with 77% followed by passengers with two and one family members. \n",
    "- Number of family members and survival rate are not correlated (0.045)."
   ]
  },
  {
   "cell_type": "markdown",
   "metadata": {},
   "source": [
    "## Limitations "
   ]
  },
  {
   "cell_type": "markdown",
   "metadata": {},
   "source": [
    "#### Age \n",
    "The 'Age' column had 177 missing values and I chose to drop those missing values instead of replacing them with the average age of the column with 29 years old. Adding an extra 177 data points to the 20 years old age category increased the 20 years old category by 397 data points.This would unfairly distribute the age category brackets. If those 177 data points were available, it would have provided a more fair measurement of survival rate by age category and gender age category. \n",
    "\n",
    "\n",
    "#### Fare\n",
    "I chose to discretize the 'Fare' column with a quantile base. In the 'Fare' column, 81% of the passengers paid less than 51 dollars. In order to capture the trend of the survival rate while the fare prices increase, the qcut method was the solution for evenly binning those 81% of passengers. However, the side-effect was that the last bin ended up having a much wider range of fares (79 to 512 dollars) compared to the rest of the bins, which would create less variation of the fare binning categories. "
   ]
  },
  {
   "cell_type": "markdown",
   "metadata": {},
   "source": [
    "## Conclusion "
   ]
  },
  {
   "cell_type": "markdown",
   "metadata": {},
   "source": [
    "Throughout this project, I investigated how age groups, gender, fare price, passenger class and numbers of family members affect the survival rate of those on board during the Titanic incident. \n",
    "\n",
    "- Children less than 10 years old have the highest survival rate compared to other age groups overall excluding an outlier of one passenger who was 80 year's old. The teenage group (less than 20 years old) has the lower survival rate compared to the age group in their 30's. Because 177 data points are missing from the dataset, these figures do not fairly describe the whole age distribution of the Titanic incident. \n",
    "\n",
    "- The female's survival rate is higher than male's survival rate throughout the entire age groups. What's noteworthy is that male children under 10 have the highest survival rate of 60% while the females under 10 have the lowest survival rate among all female age groups. Gender has the highest correlation rate among all variables.\n",
    "\n",
    "- Passengers who pay more fare seem to survive more than passengers who pay less with a fair correlation of 0.27. Because I chose to equally distribute passengers with each bin, the bin with 79 to 512 dollars has a much wider range of fares compared to other bins with a narrower range of fares. Therefore, these bins may not fairly represent the correlation between fare price and survival rate. \n",
    "\n",
    "- 1st class passengers tend to survive more than 3rd class passengers as they are negatively correlated with -0.36. For female passengers, being a 1st and 2nd class passenger increases your survival likelihood than being a 3rd class passenger. On the other hand, for males, being a 1st class passenger increased your survival likelihood. \n",
    "\n",
    "- Those with 3 family members have a higher survival likelihood with 77% followed by having 2 (57%) and 1 (55%) family  members compared to being single which has a survival rate of 0.3. For families, the number of family members does not have a strong correlation with survival rate. Though your likelihood of survival seems to increase significantly between a single passenger and a passenger travelling as part of a family with 3 members. "
   ]
  },
  {
   "cell_type": "markdown",
   "metadata": {},
   "source": [
    "### References\n",
    "\n",
    "- http://seaborn.pydata.org/tutorial/color_palettes.html\n",
    "- https://seaborn.pydata.org/generated/seaborn.FacetGrid.html\n",
    "- http://seaborn.pydata.org/tutorial/categorical.html\n",
    "- http://seaborn.pydata.org/tutorial/color_palettes.html \n",
    "- https://seaborn.pydata.org/generated/seaborn.factorplot.html\n",
    "- https://stackoverflow.com/questions/42406233/how-to-add-title-to-seaborn-boxplot"
   ]
  },
  {
   "cell_type": "code",
   "execution_count": null,
   "metadata": {
    "collapsed": true
   },
   "outputs": [],
   "source": []
  }
 ],
 "metadata": {
  "anaconda-cloud": {},
  "kernelspec": {
   "display_name": "Python 3",
   "language": "python",
   "name": "python3"
  },
  "language_info": {
   "codemirror_mode": {
    "name": "ipython",
    "version": 3
   },
   "file_extension": ".py",
   "mimetype": "text/x-python",
   "name": "python",
   "nbconvert_exporter": "python",
   "pygments_lexer": "ipython3",
   "version": "3.6.1"
  }
 },
 "nbformat": 4,
 "nbformat_minor": 1
}
